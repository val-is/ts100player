{
 "metadata": {
  "language_info": {
   "codemirror_mode": {
    "name": "ipython",
    "version": 3
   },
   "file_extension": ".py",
   "mimetype": "text/x-python",
   "name": "python",
   "nbconvert_exporter": "python",
   "pygments_lexer": "ipython3",
   "version": "3.9.1-final"
  },
  "orig_nbformat": 2,
  "kernelspec": {
   "name": "python3",
   "display_name": "Python 3",
   "language": "python"
  }
 },
 "nbformat": 4,
 "nbformat_minor": 2,
 "cells": [
  {
   "cell_type": "code",
   "execution_count": 27,
   "metadata": {},
   "outputs": [],
   "source": [
    "import cv2\n",
    "import numpy as np\n",
    "\n",
    "import os\n",
    "import os.path\n",
    "\n",
    "RESOLUTION = (32, 8)\n",
    "TARGET_FPS = 12\n",
    "\n",
    "INPUT_FILE = \"video/processing/badapple.mp4\"\n",
    "FRAMES_DIR = \"video/processing/frames\""
   ]
  },
  {
   "cell_type": "code",
   "execution_count": 28,
   "metadata": {
    "tags": []
   },
   "outputs": [],
   "source": [
    "video = cv2.VideoCapture(INPUT_FILE)\n",
    "\n",
    "host_framerate = video.get(cv2.CAP_PROP_FPS)\n",
    "frame_skip = host_framerate // TARGET_FPS\n",
    "\n",
    "prev_frame = None\n",
    "\n",
    "bytes_estimate = 0\n",
    "byte_array = []\n",
    "range_compressed = []\n",
    "\n",
    "raw_framedata_array = []\n",
    "\n",
    "cur_frame = frames_written = 0\n",
    "while video.isOpened():\n",
    "    ret, frame = video.read()\n",
    "    if not ret:\n",
    "        break\n",
    "\n",
    "    if cur_frame % frame_skip == 0:\n",
    "        frame = cv2.resize(frame, RESOLUTION, interpolation=cv2.INTER_NEAREST_EXACT)\n",
    "        frame = cv2.cvtColor(frame, cv2.COLOR_BGR2GRAY)\n",
    "        _, frame = cv2.threshold(frame, 127, 255, cv2.THRESH_BINARY)\n",
    "\n",
    "        if cur_frame != 0:\n",
    "            frame_xored = cv2.bitwise_xor(frame, prev_frame)\n",
    "            bytes_estimate += np.count_nonzero(frame_xored)\n",
    "\n",
    "            frame_changed = []\n",
    "            tmp_range = []\n",
    "            for y, row in enumerate(frame_xored):\n",
    "                for x, val in enumerate(row):\n",
    "                    if val > 127:\n",
    "                        v_conv = x<<3 | y\n",
    "                        if v_conv not in [0,1]:\n",
    "                            frame_changed.append(v_conv)\n",
    "            frame_changed = sorted(frame_changed)\n",
    "            \n",
    "            writing = []\n",
    "            r = []\n",
    "            for k, v in enumerate(frame_changed):\n",
    "                if len(r) != 0 and r[-1]+1 != v:\n",
    "                    if len(r) <= 3:\n",
    "                        writing += r\n",
    "                    else:\n",
    "                        writing += [1, r[0], r[-1]]\n",
    "                    r = [v]\n",
    "                else:\n",
    "                    r += [v]\n",
    "            writing += r\n",
    "\n",
    "            range_compressed += writing + [0]\n",
    "            byte_array += frame_changed + [0]\n",
    "\n",
    "            # for x in range(RESOLUTION[0]):\n",
    "                # strip_one = 0\n",
    "                # strip_two = 1\n",
    "                # for y in range(8):\n",
    "                    # first strip\n",
    "                    # val_s_one = frame[y][x]\n",
    "                    # val_s_two = frame[y+8][x]\n",
    "                    \n",
    "                    # if val_s_one > 127:\n",
    "                    #     strip_one |= 1<<y\n",
    "                    # if val_s_two > 127:\n",
    "                    #     strip_two |= 1<<y\n",
    "                # raw_framedata_array.append(strip_one)\n",
    "                # raw_framedata_array.append(strip_two)\n",
    "\n",
    "            cv2.imwrite(f\"{FRAMES_DIR}/frame-{frames_written:04d}.jpg\", frame_xored)\n",
    "            frames_written += 1\n",
    "        prev_frame = frame\n",
    "    cur_frame += 1\n",
    "\n",
    "video.release()"
   ]
  },
  {
   "cell_type": "code",
   "execution_count": 29,
   "metadata": {},
   "outputs": [
    {
     "output_type": "stream",
     "name": "stdout",
     "text": [
      "39683 49006\n"
     ]
    }
   ],
   "source": [
    "print(len(range_compressed), len(byte_array))"
   ]
  },
  {
   "cell_type": "code",
   "execution_count": 30,
   "metadata": {
    "tags": []
   },
   "outputs": [],
   "source": [
    "# convert bytes to c code\n",
    "with open(\"dump.txt\", 'w') as f:\n",
    "    for v in range_compressed:\n",
    "        if v == 0:\n",
    "            f.write(f\"{v},\\n\")\n",
    "        else:\n",
    "            f.write(f\"{v},\")"
   ]
  },
  {
   "cell_type": "code",
   "execution_count": null,
   "metadata": {},
   "outputs": [],
   "source": []
  }
 ]
}